{
  "nbformat": 4,
  "nbformat_minor": 0,
  "metadata": {
    "colab": {
      "name": "Tacotron2_Demo.ipynb",
      "provenance": [],
      "collapsed_sections": []
    },
    "kernelspec": {
      "name": "python3",
      "display_name": "Python 3"
    },
    "accelerator": "GPU"
  },
  "cells": [
    {
      "cell_type": "code",
      "metadata": {
        "id": "nzyWFSQZuM8Q",
        "colab_type": "code",
        "colab": {}
      },
      "source": [
        "import torch\n",
        "!pip3 install numpy scipy librosa unidecode inflect librosa\n",
        "!pip3 install librosa --upgrade\n",
        "import librosa\n",
        "import librosa.core\n",
        "tacotron2 = torch.hub.load('nvidia/DeepLearningExamples:torchhub', 'nvidia_tacotron2')"
      ],
      "execution_count": 0,
      "outputs": []
    },
    {
      "cell_type": "code",
      "metadata": {
        "id": "8hUzN0k4uqKq",
        "colab_type": "code",
        "colab": {}
      },
      "source": [
        "tacotron2 = tacotron2.to('cuda').eval()\n",
        "!pip3 install librosa --upgrade\n"
      ],
      "execution_count": 0,
      "outputs": []
    },
    {
      "cell_type": "code",
      "metadata": {
        "id": "996ewbcMu5Mb",
        "colab_type": "code",
        "colab": {}
      },
      "source": [
        "import numpy as np\n",
        "import matplotlib.pyplot as plt\n",
        "import librosa.display\n",
        "def text_to_spectrogram(text):\n",
        "    sequence = np.array(tacotron2.text_to_sequence(text, ['english_cleaners']))[None, :]\n",
        "    sequence = torch.from_numpy(sequence).to(device='cuda', dtype=torch.int64)\n",
        "    _, mel, _, _ = tacotron2.infer(sequence)\n",
        "    return mel.detach().cpu().numpy()[0]"
      ],
      "execution_count": 0,
      "outputs": []
    },
    {
      "cell_type": "code",
      "metadata": {
        "id": "AuGirUz5-ENL",
        "colab_type": "code",
        "colab": {}
      },
      "source": [
        "def griffin_lim_algorithm(S, iterations, hop_length=256):\n",
        "    # at each step, \n",
        "    # compute S_ = stft(x)\n",
        "    # take angle from S_ - _P = np.angle(S_)\n",
        "    # replace magnitude of S_ with S - D = S * np.exp(1j * _P)\n",
        "    # calculate x = istft(S)\n",
        "\n",
        "    phase = np.random.randn(*S.shape)\n",
        "    x = librosa.istft(S * np.exp(1j * phase),hop_length=hop_length, win_length=hop_length*4)\n",
        "\n",
        "    for k in range(iterations):\n",
        "        computed_S = librosa.stft(x, n_fft=1024, hop_length=hop_length, win_length=hop_length*4)\n",
        "        phase = np.angle(computed_S)\n",
        "\n",
        "        augmented_S = S * np.exp(1j * phase)\n",
        "        x = librosa.istft(augmented_S, hop_length=hop_length, win_length=hop_length*4)\n",
        "\n",
        "    return x\n",
        "def mel_spectrogram_to_audio(S):\n",
        "    S_ = librosa.core.db_to_power(S)\n",
        "    S_ = librosa.feature.inverse.mel_to_stft(S_, n_fft=1024, power=0.2)\n",
        "    librosa.display.specshow(S_)\n",
        "\n",
        "    y = griffin_lim_algorithm(S_, 50)\n",
        "    return y\n",
        "spectrogram1 = text_to_spectrogram(\"My name is Alex and I like signals.\")\n",
        "audio = mel_spectrogram_to_audio(spectrogram1)\n",
        "from IPython.display import Audio\n",
        "Audio(audio, rate=22050)"
      ],
      "execution_count": 0,
      "outputs": []
    },
    {
      "cell_type": "code",
      "metadata": {
        "id": "AQUbpu06bHQv",
        "colab_type": "code",
        "colab": {}
      },
      "source": [
        ""
      ],
      "execution_count": 0,
      "outputs": []
    }
  ]
}